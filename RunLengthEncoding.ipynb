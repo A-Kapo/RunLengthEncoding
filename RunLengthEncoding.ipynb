{
 "cells": [
  {
   "cell_type": "markdown",
   "metadata": {},
   "source": [
    "## Run Length Encoding Image"
   ]
  },
  {
   "cell_type": "markdown",
   "metadata": {},
   "source": [
    "Task: https://www.codewars.com/kata/58bfa40c43fadb4edb0000b5\n",
    "\n",
    "IONU Satellite Imaging, Inc. records and stores very large images using run length encoding. You are to write a program that reads a compressed image, finds the edges in the image, as described below, and outputs another compressed image of the detected edges.\n",
    "\n",
    "A simple edge detection algorithm sets an output pixel's value to be the maximum absolute value of the differences between it and all its surrounding pixels in the input image. Consider the input image below:\n",
    "\n",
    "The upper left pixel in the output image is the maximum of the values |15-15|,|15-100|, and |15-100|, which is 85. The pixel in the 4th row, 2nd column is computed as the maximum of |175-100|, |175-100|, |175-100|, |175-175|, |175-25|, |175-175|,|175-175|, and |175-25|, which is 150.\n",
    "\n",
    "Images contain 2 to 1,000,000,000 (10^9) pixels. All images are encoded using run length encoding (RLE). This is a sequence of pairs, containing pixel value (0-255) and run length (1-10^9). Input images have at most 1,000 of these pairs. Successive pairs have different pixel values. All lines in an image contain the same number of pixels.\n",
    "\n",
    "For the image as the example above, the RLE encoding string is \"7 15 4 100 15 25 2 175 2 25 5 175 2 25 5\"\n",
    "\n",
    " Each image starts with the width, in pixels(means the first number 7)\n",
    " This is followed by the RLE pairs(two number is a pair).\n",
    " \n",
    " \n",
    " 7      ----> image width\n",
    " 15 4   ----> a pair(color value + number of pixel)\n",
    " 100 15  \n",
    " 25 2         \n",
    " 175 2        \n",
    " 25 5         \n",
    " 175 2        \n",
    " 25 5         "
   ]
  },
  {
   "cell_type": "markdown",
   "metadata": {},
   "source": [
    "### Solution:"
   ]
  },
  {
   "cell_type": "code",
   "execution_count": 1,
   "metadata": {},
   "outputs": [
    {
     "name": "stdout",
     "output_type": "stream",
     "text": [
      "Initial string:  7 15 4 100 15 25 2 175 2 25 5 175 2 25 5\n",
      "Initial image: \n",
      " [[ 15.  15.  15.  15. 100. 100. 100.]\n",
      " [100. 100. 100. 100. 100. 100. 100.]\n",
      " [100. 100. 100. 100. 100.  25.  25.]\n",
      " [175. 175.  25.  25.  25.  25.  25.]\n",
      " [175. 175.  25.  25.  25.  25.  25.]]\n",
      "\n",
      "Final image: \n",
      " [[ 85.  85.  85.  85.  85.   0.   0.]\n",
      " [ 85.  85.  85.  85.  85.  75.  75.]\n",
      " [ 75.  75.  75.  75.  75.  75.  75.]\n",
      " [ 75. 150. 150.  75.  75.  75.   0.]\n",
      " [  0. 150. 150.   0.   0.   0.   0.]]\n"
     ]
    },
    {
     "data": {
      "text/plain": [
       "'7 85 5 0 2 85 5 75 10 150 2 75 3 0 2 150 2 0 4'"
      ]
     },
     "execution_count": 1,
     "metadata": {},
     "output_type": "execute_result"
    }
   ],
   "source": [
    "import numpy as np\n",
    "\n",
    "image = '7 15 4 100 15 25 2 175 2 25 5 175 2 25 5'\n",
    "\n",
    "def reshape_image(image, r, c):\n",
    "    # Adds duplicates of the edge rows so that the mesh grid can eliminate the values\n",
    "    image = np.array([np.append(np.append([x[0]]*c[0], x), [x[-1]]*c[1]) for x in image])\n",
    "    image_r, image_c = image.shape\n",
    "    if r[0] == 0:\n",
    "        return np.array(np.append(image, [image[-1]]*2)).reshape(image_r+2, image_c)\n",
    "    elif r[0] == 2:\n",
    "        return np.array(np.append([image[0]]*2, image)).reshape(image_r+2, image_c)\n",
    "    else:\n",
    "        return np.array(np.append(np.append(np.zeros(image_c), image), \\\n",
    "                                  np.zeros(image_c))).reshape(image_r+2, image_c)\n",
    "\n",
    "def edge_detection(image):\n",
    "    \n",
    "    image_list = image.split(\" \")\n",
    "    width = int(image_list.pop(0))\n",
    "    val = [int(i) for i in image_list[::2]]\n",
    "    qt = [int(i) for i in image_list[1::2]]\n",
    "    height = int(sum(qt)/width)\n",
    "    \n",
    "    # Redefine the matrix with 0's on the borders so that we can offset its interior\n",
    "    # and perform subsequent matrix operations\n",
    "    image_matrix_circumscribed = np.zeros((height+2, width+2))\n",
    "\n",
    "    x, y = 0, 0\n",
    "    # Decoder\n",
    "    for num, times in zip(val, qt):\n",
    "        for _ in range(times):\n",
    "            image_matrix_circumscribed[y+1,x+1] = num\n",
    "            x += 1\n",
    "            if x == width:\n",
    "                x = 0\n",
    "                y += 1\n",
    "    \n",
    "    # The inners\n",
    "    image_matrix = image_matrix_circumscribed[1:height+1,1:width+1].copy()\n",
    "    \n",
    "    mesh_grids = []\n",
    "    for rofset in range(-1,2):\n",
    "        add_above = np.abs(1+rofset)\n",
    "        row_add = [add_above, 2-add_above]\n",
    "        for cofset in range(-1,2):\n",
    "            if rofset == 0 and cofset == 0: continue\n",
    "            else:\n",
    "                add_left = np.abs(1+cofset)\n",
    "                col_add = [add_left, 2-add_left]\n",
    "                # Reshape inners to fit shape image_matrix_circumscribed\n",
    "                reshaped_image = reshape_image(image_matrix, row_add, col_add)\n",
    "                mesh_grids.append((image_matrix_circumscribed-reshaped_image)[1:height+1,1:width+1])\n",
    "    \n",
    "    edge_matrix = np.zeros(image_matrix.shape)\n",
    "    mesh_grids = np.array([np.abs(row) for row in mesh_grids])\n",
    "    for row in range(height):\n",
    "        for col in range(width):\n",
    "            maximum = 0\n",
    "            for value in mesh_grids:\n",
    "                if value[row,col] > maximum: maximum = value[row,col]\n",
    "            edge_matrix[row,col] = maximum\n",
    "    \n",
    "    # Encode\n",
    "    string = str(width)\n",
    "    last_val = edge_matrix[0][0]\n",
    "    count = 0\n",
    "    for val in edge_matrix.reshape(1,-1)[0]:\n",
    "        if val != last_val:\n",
    "            string += \" \" + str(int(last_val)) + \" \" + str(count)\n",
    "            count = 1\n",
    "        else:\n",
    "            count += 1\n",
    "        last_val = val\n",
    "        \n",
    "    string += \" \" + str(int(last_val)) + \" \" + str(count)\n",
    "    print(\"Initial string: \", image)\n",
    "    print(\"Initial image: \\n\", image_matrix, end = \"\\n\\n\")\n",
    "    print(\"Final image: \\n\", edge_matrix)\n",
    "    return string\n",
    "\n",
    "edge_detection(image)"
   ]
  }
 ],
 "metadata": {
  "kernelspec": {
   "display_name": "Python 3",
   "language": "python",
   "name": "python3"
  },
  "language_info": {
   "codemirror_mode": {
    "name": "ipython",
    "version": 3
   },
   "file_extension": ".py",
   "mimetype": "text/x-python",
   "name": "python",
   "nbconvert_exporter": "python",
   "pygments_lexer": "ipython3",
   "version": "3.7.0"
  }
 },
 "nbformat": 4,
 "nbformat_minor": 2
}
